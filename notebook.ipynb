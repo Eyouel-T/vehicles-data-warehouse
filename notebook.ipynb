{
 "cells": [
  {
   "cell_type": "code",
   "execution_count": 1,
   "metadata": {},
   "outputs": [],
   "source": [
    "from loader import load_data\n",
    "import pandas as pd"
   ]
  },
  {
   "cell_type": "markdown",
   "metadata": {},
   "source": [
    "look at the data"
   ]
  },
  {
   "cell_type": "code",
   "execution_count": 2,
   "metadata": {},
   "outputs": [
    {
     "name": "stdout",
     "output_type": "stream",
     "text": [
      "3075\n",
      "1447385\n",
      "  track_id        type traveled_d  avg_speed\n",
      "1        1         Car      48.85   9.770344\n",
      "2        2  Motorcycle      98.09  19.839417\n",
      "3        3  Motorcycle      63.80  18.228752\n",
      "4        4  Motorcycle     145.72  26.229014\n",
      "5        5  Motorcycle     138.01  24.841425\n",
      "  track_id        lat        lon   speed  lon_acc  lat_acc      time\n",
      "1        1  37.977391  23.737688  4.9178   0.0518  -0.0299  0.000000\n",
      "2        1  37.977391  23.737688  4.9207  -0.0124  -0.0354  0.040000\n",
      "3        1  37.977391  23.737688  4.9160  -0.0519  -0.0413  0.080000\n",
      "4        1  37.977390  23.737688  4.9057  -0.0914  -0.0478  0.120000\n",
      "5        1  37.977390  23.737689  4.8871  -0.1679  -0.0550  0.160000\n"
     ]
    }
   ],
   "source": [
    "\n",
    "\n",
    "# Specify the filename\n",
    "filename = 'data.csv'\n",
    "\n",
    "# Load the data using the load_data function from loader.py\n",
    "vehicle_df, timed_vehicle_df = load_data(filename)\n",
    "\n",
    "# Access and work with the dataframes\n",
    "print(vehicle_df.head())\n",
    "print(timed_vehicle_df.head())"
   ]
  },
  {
   "cell_type": "code",
   "execution_count": 3,
   "metadata": {},
   "outputs": [],
   "source": [
    "vehicle_df.to_csv('first.csv', index=False)\n",
    "timed_vehicle_df.to_csv('second.csv', index=False)\n"
   ]
  },
  {
   "cell_type": "code",
   "execution_count": null,
   "metadata": {},
   "outputs": [],
   "source": []
  }
 ],
 "metadata": {
  "interpreter": {
   "hash": "a4321c7242586187c744fd5bef8fc44998b4b5075f9308969b81c92f43a3f6da"
  },
  "kernelspec": {
   "display_name": "Python 3.9.2 ('venv': venv)",
   "language": "python",
   "name": "python3"
  },
  "language_info": {
   "codemirror_mode": {
    "name": "ipython",
    "version": 3
   },
   "file_extension": ".py",
   "mimetype": "text/x-python",
   "name": "python",
   "nbconvert_exporter": "python",
   "pygments_lexer": "ipython3",
   "version": "3.9.2"
  },
  "orig_nbformat": 4
 },
 "nbformat": 4,
 "nbformat_minor": 2
}
